{
  "nbformat": 4,
  "nbformat_minor": 0,
  "metadata": {
    "colab": {
      "provenance": [],
      "include_colab_link": true
    },
    "kernelspec": {
      "name": "python3",
      "display_name": "Python 3"
    },
    "widgets": {
      "application/vnd.jupyter.widget-state+json": {
        "3e7fcd5465cf44b09bc6c84e9dde8a46": {
          "model_module": "@jupyter-widgets/controls",
          "model_name": "VBoxModel",
          "model_module_version": "1.5.0",
          "state": {
            "_dom_classes": [
              "widget-interact"
            ],
            "_model_module": "@jupyter-widgets/controls",
            "_model_module_version": "1.5.0",
            "_model_name": "VBoxModel",
            "_view_count": null,
            "_view_module": "@jupyter-widgets/controls",
            "_view_module_version": "1.5.0",
            "_view_name": "VBoxView",
            "box_style": "",
            "children": [
              "IPY_MODEL_275ec76ac8c7403c8ea967555bb0ca7b",
              "IPY_MODEL_543c4f05789a41b3851513ee207b187a"
            ],
            "layout": "IPY_MODEL_95a6847f312d4d5e8778d1812bee2632"
          }
        },
        "275ec76ac8c7403c8ea967555bb0ca7b": {
          "model_module": "@jupyter-widgets/controls",
          "model_name": "ToggleButtonsModel",
          "model_module_version": "1.5.0",
          "state": {
            "_dom_classes": [],
            "_model_module": "@jupyter-widgets/controls",
            "_model_module_version": "1.5.0",
            "_model_name": "ToggleButtonsModel",
            "_options_labels": [
              "Pipeline Plot",
              "Hyperparameters",
              "AUC",
              "Confusion Matrix",
              "Threshold",
              "Precision Recall",
              "Prediction Error",
              "Class Report",
              "Feature Selection",
              "Learning Curve",
              "Manifold Learning",
              "Calibration Curve",
              "Validation Curve",
              "Dimensions",
              "Feature Importance",
              "Feature Importance (All)",
              "Decision Boundary",
              "Lift Chart",
              "Gain Chart",
              "Decision Tree",
              "KS Statistic Plot"
            ],
            "_view_count": null,
            "_view_module": "@jupyter-widgets/controls",
            "_view_module_version": "1.5.0",
            "_view_name": "ToggleButtonsView",
            "button_style": "",
            "description": "Plot Type:",
            "description_tooltip": null,
            "disabled": false,
            "icons": [
              ""
            ],
            "index": 14,
            "layout": "IPY_MODEL_2124125ab6a44a3e97a754ba8f1bd555",
            "style": "IPY_MODEL_4979434357c94aa388a5ceb2e2fe3ff0",
            "tooltips": []
          }
        },
        "543c4f05789a41b3851513ee207b187a": {
          "model_module": "@jupyter-widgets/output",
          "model_name": "OutputModel",
          "model_module_version": "1.0.0",
          "state": {
            "_dom_classes": [],
            "_model_module": "@jupyter-widgets/output",
            "_model_module_version": "1.0.0",
            "_model_name": "OutputModel",
            "_view_count": null,
            "_view_module": "@jupyter-widgets/output",
            "_view_module_version": "1.0.0",
            "_view_name": "OutputView",
            "layout": "IPY_MODEL_36005cf26c524f5e88386fac8ad8a801",
            "msg_id": "",
            "outputs": [
              {
                "output_type": "display_data",
                "data": {
                  "text/plain": "<Figure size 800x500 with 1 Axes>",
                  "image/png": "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\n"
                },
                "metadata": {}
              }
            ]
          }
        },
        "95a6847f312d4d5e8778d1812bee2632": {
          "model_module": "@jupyter-widgets/base",
          "model_name": "LayoutModel",
          "model_module_version": "1.2.0",
          "state": {
            "_model_module": "@jupyter-widgets/base",
            "_model_module_version": "1.2.0",
            "_model_name": "LayoutModel",
            "_view_count": null,
            "_view_module": "@jupyter-widgets/base",
            "_view_module_version": "1.2.0",
            "_view_name": "LayoutView",
            "align_content": null,
            "align_items": null,
            "align_self": null,
            "border": null,
            "bottom": null,
            "display": null,
            "flex": null,
            "flex_flow": null,
            "grid_area": null,
            "grid_auto_columns": null,
            "grid_auto_flow": null,
            "grid_auto_rows": null,
            "grid_column": null,
            "grid_gap": null,
            "grid_row": null,
            "grid_template_areas": null,
            "grid_template_columns": null,
            "grid_template_rows": null,
            "height": null,
            "justify_content": null,
            "justify_items": null,
            "left": null,
            "margin": null,
            "max_height": null,
            "max_width": null,
            "min_height": null,
            "min_width": null,
            "object_fit": null,
            "object_position": null,
            "order": null,
            "overflow": null,
            "overflow_x": null,
            "overflow_y": null,
            "padding": null,
            "right": null,
            "top": null,
            "visibility": null,
            "width": null
          }
        },
        "2124125ab6a44a3e97a754ba8f1bd555": {
          "model_module": "@jupyter-widgets/base",
          "model_name": "LayoutModel",
          "model_module_version": "1.2.0",
          "state": {
            "_model_module": "@jupyter-widgets/base",
            "_model_module_version": "1.2.0",
            "_model_name": "LayoutModel",
            "_view_count": null,
            "_view_module": "@jupyter-widgets/base",
            "_view_module_version": "1.2.0",
            "_view_name": "LayoutView",
            "align_content": null,
            "align_items": null,
            "align_self": null,
            "border": null,
            "bottom": null,
            "display": null,
            "flex": null,
            "flex_flow": null,
            "grid_area": null,
            "grid_auto_columns": null,
            "grid_auto_flow": null,
            "grid_auto_rows": null,
            "grid_column": null,
            "grid_gap": null,
            "grid_row": null,
            "grid_template_areas": null,
            "grid_template_columns": null,
            "grid_template_rows": null,
            "height": null,
            "justify_content": null,
            "justify_items": null,
            "left": null,
            "margin": null,
            "max_height": null,
            "max_width": null,
            "min_height": null,
            "min_width": null,
            "object_fit": null,
            "object_position": null,
            "order": null,
            "overflow": null,
            "overflow_x": null,
            "overflow_y": null,
            "padding": null,
            "right": null,
            "top": null,
            "visibility": null,
            "width": null
          }
        },
        "4979434357c94aa388a5ceb2e2fe3ff0": {
          "model_module": "@jupyter-widgets/controls",
          "model_name": "ToggleButtonsStyleModel",
          "model_module_version": "1.5.0",
          "state": {
            "_model_module": "@jupyter-widgets/controls",
            "_model_module_version": "1.5.0",
            "_model_name": "ToggleButtonsStyleModel",
            "_view_count": null,
            "_view_module": "@jupyter-widgets/base",
            "_view_module_version": "1.2.0",
            "_view_name": "StyleView",
            "button_width": "",
            "description_width": "",
            "font_weight": ""
          }
        },
        "36005cf26c524f5e88386fac8ad8a801": {
          "model_module": "@jupyter-widgets/base",
          "model_name": "LayoutModel",
          "model_module_version": "1.2.0",
          "state": {
            "_model_module": "@jupyter-widgets/base",
            "_model_module_version": "1.2.0",
            "_model_name": "LayoutModel",
            "_view_count": null,
            "_view_module": "@jupyter-widgets/base",
            "_view_module_version": "1.2.0",
            "_view_name": "LayoutView",
            "align_content": null,
            "align_items": null,
            "align_self": null,
            "border": null,
            "bottom": null,
            "display": null,
            "flex": null,
            "flex_flow": null,
            "grid_area": null,
            "grid_auto_columns": null,
            "grid_auto_flow": null,
            "grid_auto_rows": null,
            "grid_column": null,
            "grid_gap": null,
            "grid_row": null,
            "grid_template_areas": null,
            "grid_template_columns": null,
            "grid_template_rows": null,
            "height": null,
            "justify_content": null,
            "justify_items": null,
            "left": null,
            "margin": null,
            "max_height": null,
            "max_width": null,
            "min_height": null,
            "min_width": null,
            "object_fit": null,
            "object_position": null,
            "order": null,
            "overflow": null,
            "overflow_x": null,
            "overflow_y": null,
            "padding": null,
            "right": null,
            "top": null,
            "visibility": null,
            "width": null
          }
        }
      }
    }
  },
  "cells": [
    {
      "cell_type": "markdown",
      "metadata": {
        "id": "view-in-github",
        "colab_type": "text"
      },
      "source": [
        "<a href=\"https://colab.research.google.com/github/gsofianidou/G.-Sofianidou/blob/main/DGA_Classification.ipynb\" target=\"_parent\"><img src=\"https://colab.research.google.com/assets/colab-badge.svg\" alt=\"Open In Colab\"/></a>"
      ]
    },
    {
      "cell_type": "code",
      "metadata": {
        "id": "2rvGqQdY9C6s",
        "outputId": "4bd2b25d-e077-4aed-a289-15227ceae4bd",
        "colab": {
          "base_uri": "https://localhost:8080/"
        }
      },
      "source": [
        "#εγκατάσταση πακέτου pycaret (https://pycaret.org/)\n",
        "!pip install pycaret\n",
        "#***ΠΡΟΣΟΧΗ*** μετά την εγκατάσταση χρειάζεται restart το session\n",
        "#***θα σας ζητηθεί επανεκκίνηση με σχετικό κόκκινο μήνυμα μετά την ολοκλήρωση της εγκατάστασης\n",
        "#***Πατήστε το κουμπί RESTART SESSION στο σχετικό μήνυμα"
      ],
      "execution_count": null,
      "outputs": [
        {
          "output_type": "stream",
          "name": "stdout",
          "text": [
            "Collecting pycaret\n",
            "  Downloading pycaret-3.3.2-py3-none-any.whl (486 kB)\n",
            "\u001b[2K     \u001b[90m━━━━━━━━━━━━━━━━━━━━━━━━━━━━━━━━━━━━━━━━\u001b[0m \u001b[32m486.1/486.1 kB\u001b[0m \u001b[31m5.0 MB/s\u001b[0m eta \u001b[36m0:00:00\u001b[0m\n",
            "\u001b[?25hRequirement already satisfied: ipython>=5.5.0 in /usr/local/lib/python3.10/dist-packages (from pycaret) (7.34.0)\n",
            "Requirement already satisfied: ipywidgets>=7.6.5 in /usr/local/lib/python3.10/dist-packages (from pycaret) (7.7.1)\n",
            "Requirement already satisfied: tqdm>=4.62.0 in /usr/local/lib/python3.10/dist-packages (from pycaret) (4.66.4)\n",
            "Requirement already satisfied: numpy<1.27,>=1.21 in /usr/local/lib/python3.10/dist-packages (from pycaret) (1.25.2)\n",
            "Requirement already satisfied: pandas<2.2.0 in /usr/local/lib/python3.10/dist-packages (from pycaret) (2.0.3)\n",
            "Requirement already satisfied: jinja2>=3 in /usr/local/lib/python3.10/dist-packages (from pycaret) (3.1.4)\n",
            "Requirement already satisfied: scipy<=1.11.4,>=1.6.1 in /usr/local/lib/python3.10/dist-packages (from pycaret) (1.11.4)\n",
            "Collecting joblib<1.4,>=1.2.0 (from pycaret)\n",
            "  Downloading joblib-1.3.2-py3-none-any.whl (302 kB)\n",
            "\u001b[2K     \u001b[90m━━━━━━━━━━━━━━━━━━━━━━━━━━━━━━━━━━━━━━━━\u001b[0m \u001b[32m302.2/302.2 kB\u001b[0m \u001b[31m11.3 MB/s\u001b[0m eta \u001b[36m0:00:00\u001b[0m\n",
            "\u001b[?25hCollecting scikit-learn>1.4.0 (from pycaret)\n",
            "  Downloading scikit_learn-1.5.1-cp310-cp310-manylinux_2_17_x86_64.manylinux2014_x86_64.whl (13.4 MB)\n",
            "\u001b[2K     \u001b[90m━━━━━━━━━━━━━━━━━━━━━━━━━━━━━━━━━━━━━━━━\u001b[0m \u001b[32m13.4/13.4 MB\u001b[0m \u001b[31m21.1 MB/s\u001b[0m eta \u001b[36m0:00:00\u001b[0m\n",
            "\u001b[?25hCollecting pyod>=1.1.3 (from pycaret)\n",
            "  Downloading pyod-2.0.1.tar.gz (163 kB)\n",
            "\u001b[2K     \u001b[90m━━━━━━━━━━━━━━━━━━━━━━━━━━━━━━━━━━━━━━━━\u001b[0m \u001b[32m163.8/163.8 kB\u001b[0m \u001b[31m5.8 MB/s\u001b[0m eta \u001b[36m0:00:00\u001b[0m\n",
            "\u001b[?25h  Preparing metadata (setup.py) ... \u001b[?25l\u001b[?25hdone\n",
            "Collecting imbalanced-learn>=0.12.0 (from pycaret)\n",
            "  Downloading imbalanced_learn-0.12.3-py3-none-any.whl (258 kB)\n",
            "\u001b[2K     \u001b[90m━━━━━━━━━━━━━━━━━━━━━━━━━━━━━━━━━━━━━━━━\u001b[0m \u001b[32m258.3/258.3 kB\u001b[0m \u001b[31m9.4 MB/s\u001b[0m eta \u001b[36m0:00:00\u001b[0m\n",
            "\u001b[?25hCollecting category-encoders>=2.4.0 (from pycaret)\n",
            "  Downloading category_encoders-2.6.3-py2.py3-none-any.whl (81 kB)\n",
            "\u001b[2K     \u001b[90m━━━━━━━━━━━━━━━━━━━━━━━━━━━━━━━━━━━━━━━━\u001b[0m \u001b[32m81.9/81.9 kB\u001b[0m \u001b[31m6.9 MB/s\u001b[0m eta \u001b[36m0:00:00\u001b[0m\n",
            "\u001b[?25hRequirement already satisfied: lightgbm>=3.0.0 in /usr/local/lib/python3.10/dist-packages (from pycaret) (4.1.0)\n",
            "Requirement already satisfied: numba>=0.55.0 in /usr/local/lib/python3.10/dist-packages (from pycaret) (0.58.1)\n",
            "Requirement already satisfied: requests>=2.27.1 in /usr/local/lib/python3.10/dist-packages (from pycaret) (2.31.0)\n",
            "Requirement already satisfied: psutil>=5.9.0 in /usr/local/lib/python3.10/dist-packages (from pycaret) (5.9.5)\n",
            "Requirement already satisfied: markupsafe>=2.0.1 in /usr/local/lib/python3.10/dist-packages (from pycaret) (2.1.5)\n",
            "Requirement already satisfied: importlib-metadata>=4.12.0 in /usr/local/lib/python3.10/dist-packages (from pycaret) (8.0.0)\n",
            "Requirement already satisfied: nbformat>=4.2.0 in /usr/local/lib/python3.10/dist-packages (from pycaret) (5.10.4)\n",
            "Requirement already satisfied: cloudpickle in /usr/local/lib/python3.10/dist-packages (from pycaret) (2.2.1)\n",
            "Collecting deprecation>=2.1.0 (from pycaret)\n",
            "  Downloading deprecation-2.1.0-py2.py3-none-any.whl (11 kB)\n",
            "Collecting xxhash (from pycaret)\n",
            "  Downloading xxhash-3.4.1-cp310-cp310-manylinux_2_17_x86_64.manylinux2014_x86_64.whl (194 kB)\n",
            "\u001b[2K     \u001b[90m━━━━━━━━━━━━━━━━━━━━━━━━━━━━━━━━━━━━━━━━\u001b[0m \u001b[32m194.1/194.1 kB\u001b[0m \u001b[31m4.6 MB/s\u001b[0m eta \u001b[36m0:00:00\u001b[0m\n",
            "\u001b[?25hRequirement already satisfied: matplotlib<3.8.0 in /usr/local/lib/python3.10/dist-packages (from pycaret) (3.7.1)\n",
            "Collecting scikit-plot>=0.3.7 (from pycaret)\n",
            "  Downloading scikit_plot-0.3.7-py3-none-any.whl (33 kB)\n",
            "Requirement already satisfied: yellowbrick>=1.4 in /usr/local/lib/python3.10/dist-packages (from pycaret) (1.5)\n",
            "Requirement already satisfied: plotly>=5.14.0 in /usr/local/lib/python3.10/dist-packages (from pycaret) (5.15.0)\n",
            "Collecting kaleido>=0.2.1 (from pycaret)\n",
            "  Downloading kaleido-0.2.1-py2.py3-none-manylinux1_x86_64.whl (79.9 MB)\n",
            "\u001b[2K     \u001b[90m━━━━━━━━━━━━━━━━━━━━━━━━━━━━━━━━━━━━━━━━\u001b[0m \u001b[32m79.9/79.9 MB\u001b[0m \u001b[31m8.5 MB/s\u001b[0m eta \u001b[36m0:00:00\u001b[0m\n",
            "\u001b[?25hCollecting schemdraw==0.15 (from pycaret)\n",
            "  Downloading schemdraw-0.15-py3-none-any.whl (106 kB)\n",
            "\u001b[2K     \u001b[90m━━━━━━━━━━━━━━━━━━━━━━━━━━━━━━━━━━━━━━━━\u001b[0m \u001b[32m106.8/106.8 kB\u001b[0m \u001b[31m9.4 MB/s\u001b[0m eta \u001b[36m0:00:00\u001b[0m\n",
            "\u001b[?25hCollecting plotly-resampler>=0.8.3.1 (from pycaret)\n",
            "  Downloading plotly_resampler-0.10.0-py3-none-any.whl (80 kB)\n",
            "\u001b[2K     \u001b[90m━━━━━━━━━━━━━━━━━━━━━━━━━━━━━━━━━━━━━━━━\u001b[0m \u001b[32m80.7/80.7 kB\u001b[0m \u001b[31m9.1 MB/s\u001b[0m eta \u001b[36m0:00:00\u001b[0m\n",
            "\u001b[?25hRequirement already satisfied: statsmodels>=0.12.1 in /usr/local/lib/python3.10/dist-packages (from pycaret) (0.14.2)\n",
            "Collecting sktime==0.26.0 (from pycaret)\n",
            "  Downloading sktime-0.26.0-py3-none-any.whl (21.8 MB)\n",
            "\u001b[2K     \u001b[90m━━━━━━━━━━━━━━━━━━━━━━━━━━━━━━━━━━━━━━━━\u001b[0m \u001b[32m21.8/21.8 MB\u001b[0m \u001b[31m51.6 MB/s\u001b[0m eta \u001b[36m0:00:00\u001b[0m\n",
            "\u001b[?25hCollecting tbats>=1.1.3 (from pycaret)\n",
            "  Downloading tbats-1.1.3-py3-none-any.whl (44 kB)\n",
            "\u001b[2K     \u001b[90m━━━━━━━━━━━━━━━━━━━━━━━━━━━━━━━━━━━━━━━━\u001b[0m \u001b[32m44.0/44.0 kB\u001b[0m \u001b[31m7.1 MB/s\u001b[0m eta \u001b[36m0:00:00\u001b[0m\n",
            "\u001b[?25hCollecting pmdarima>=2.0.4 (from pycaret)\n",
            "  Downloading pmdarima-2.0.4-cp310-cp310-manylinux_2_17_x86_64.manylinux2014_x86_64.manylinux_2_28_x86_64.whl (2.1 MB)\n",
            "\u001b[2K     \u001b[90m━━━━━━━━━━━━━━━━━━━━━━━━━━━━━━━━━━━━━━━━\u001b[0m \u001b[32m2.1/2.1 MB\u001b[0m \u001b[31m64.5 MB/s\u001b[0m eta \u001b[36m0:00:00\u001b[0m\n",
            "\u001b[?25hCollecting wurlitzer (from pycaret)\n",
            "  Downloading wurlitzer-3.1.1-py3-none-any.whl (8.6 kB)\n",
            "Requirement already satisfied: packaging in /usr/local/lib/python3.10/dist-packages (from sktime==0.26.0->pycaret) (24.1)\n",
            "Collecting scikit-base<0.8.0 (from sktime==0.26.0->pycaret)\n",
            "  Downloading scikit_base-0.7.8-py3-none-any.whl (130 kB)\n",
            "\u001b[2K     \u001b[90m━━━━━━━━━━━━━━━━━━━━━━━━━━━━━━━━━━━━━━━━\u001b[0m \u001b[32m130.1/130.1 kB\u001b[0m \u001b[31m20.6 MB/s\u001b[0m eta \u001b[36m0:00:00\u001b[0m\n",
            "\u001b[?25hCollecting scikit-learn>1.4.0 (from pycaret)\n",
            "  Downloading scikit_learn-1.4.2-cp310-cp310-manylinux_2_17_x86_64.manylinux2014_x86_64.whl (12.1 MB)\n",
            "\u001b[2K     \u001b[90m━━━━━━━━━━━━━━━━━━━━━━━━━━━━━━━━━━━━━━━━\u001b[0m \u001b[32m12.1/12.1 MB\u001b[0m \u001b[31m62.8 MB/s\u001b[0m eta \u001b[36m0:00:00\u001b[0m\n",
            "\u001b[?25hRequirement already satisfied: patsy>=0.5.1 in /usr/local/lib/python3.10/dist-packages (from category-encoders>=2.4.0->pycaret) (0.5.6)\n",
            "Requirement already satisfied: threadpoolctl>=2.0.0 in /usr/local/lib/python3.10/dist-packages (from imbalanced-learn>=0.12.0->pycaret) (3.5.0)\n",
            "Requirement already satisfied: zipp>=0.5 in /usr/local/lib/python3.10/dist-packages (from importlib-metadata>=4.12.0->pycaret) (3.19.2)\n",
            "Requirement already satisfied: setuptools>=18.5 in /usr/local/lib/python3.10/dist-packages (from ipython>=5.5.0->pycaret) (67.7.2)\n",
            "Collecting jedi>=0.16 (from ipython>=5.5.0->pycaret)\n",
            "  Downloading jedi-0.19.1-py2.py3-none-any.whl (1.6 MB)\n",
            "\u001b[2K     \u001b[90m━━━━━━━━━━━━━━━━━━━━━━━━━━━━━━━━━━━━━━━━\u001b[0m \u001b[32m1.6/1.6 MB\u001b[0m \u001b[31m67.4 MB/s\u001b[0m eta \u001b[36m0:00:00\u001b[0m\n",
            "\u001b[?25hRequirement already satisfied: decorator in /usr/local/lib/python3.10/dist-packages (from ipython>=5.5.0->pycaret) (4.4.2)\n",
            "Requirement already satisfied: pickleshare in /usr/local/lib/python3.10/dist-packages (from ipython>=5.5.0->pycaret) (0.7.5)\n",
            "Requirement already satisfied: traitlets>=4.2 in /usr/local/lib/python3.10/dist-packages (from ipython>=5.5.0->pycaret) (5.7.1)\n",
            "Requirement already satisfied: prompt-toolkit!=3.0.0,!=3.0.1,<3.1.0,>=2.0.0 in /usr/local/lib/python3.10/dist-packages (from ipython>=5.5.0->pycaret) (3.0.47)\n",
            "Requirement already satisfied: pygments in /usr/local/lib/python3.10/dist-packages (from ipython>=5.5.0->pycaret) (2.16.1)\n",
            "Requirement already satisfied: backcall in /usr/local/lib/python3.10/dist-packages (from ipython>=5.5.0->pycaret) (0.2.0)\n",
            "Requirement already satisfied: matplotlib-inline in /usr/local/lib/python3.10/dist-packages (from ipython>=5.5.0->pycaret) (0.1.7)\n",
            "Requirement already satisfied: pexpect>4.3 in /usr/local/lib/python3.10/dist-packages (from ipython>=5.5.0->pycaret) (4.9.0)\n",
            "Requirement already satisfied: ipykernel>=4.5.1 in /usr/local/lib/python3.10/dist-packages (from ipywidgets>=7.6.5->pycaret) (5.5.6)\n",
            "Requirement already satisfied: ipython-genutils~=0.2.0 in /usr/local/lib/python3.10/dist-packages (from ipywidgets>=7.6.5->pycaret) (0.2.0)\n",
            "Requirement already satisfied: widgetsnbextension~=3.6.0 in /usr/local/lib/python3.10/dist-packages (from ipywidgets>=7.6.5->pycaret) (3.6.7)\n",
            "Requirement already satisfied: jupyterlab-widgets>=1.0.0 in /usr/local/lib/python3.10/dist-packages (from ipywidgets>=7.6.5->pycaret) (3.0.11)\n",
            "Requirement already satisfied: contourpy>=1.0.1 in /usr/local/lib/python3.10/dist-packages (from matplotlib<3.8.0->pycaret) (1.2.1)\n",
            "Requirement already satisfied: cycler>=0.10 in /usr/local/lib/python3.10/dist-packages (from matplotlib<3.8.0->pycaret) (0.12.1)\n",
            "Requirement already satisfied: fonttools>=4.22.0 in /usr/local/lib/python3.10/dist-packages (from matplotlib<3.8.0->pycaret) (4.53.1)\n",
            "Requirement already satisfied: kiwisolver>=1.0.1 in /usr/local/lib/python3.10/dist-packages (from matplotlib<3.8.0->pycaret) (1.4.5)\n",
            "Requirement already satisfied: pillow>=6.2.0 in /usr/local/lib/python3.10/dist-packages (from matplotlib<3.8.0->pycaret) (9.4.0)\n",
            "Requirement already satisfied: pyparsing>=2.3.1 in /usr/local/lib/python3.10/dist-packages (from matplotlib<3.8.0->pycaret) (3.1.2)\n",
            "Requirement already satisfied: python-dateutil>=2.7 in /usr/local/lib/python3.10/dist-packages (from matplotlib<3.8.0->pycaret) (2.8.2)\n",
            "Requirement already satisfied: fastjsonschema>=2.15 in /usr/local/lib/python3.10/dist-packages (from nbformat>=4.2.0->pycaret) (2.20.0)\n",
            "Requirement already satisfied: jsonschema>=2.6 in /usr/local/lib/python3.10/dist-packages (from nbformat>=4.2.0->pycaret) (4.19.2)\n",
            "Requirement already satisfied: jupyter-core!=5.0.*,>=4.12 in /usr/local/lib/python3.10/dist-packages (from nbformat>=4.2.0->pycaret) (5.7.2)\n",
            "Requirement already satisfied: llvmlite<0.42,>=0.41.0dev0 in /usr/local/lib/python3.10/dist-packages (from numba>=0.55.0->pycaret) (0.41.1)\n",
            "Requirement already satisfied: pytz>=2020.1 in /usr/local/lib/python3.10/dist-packages (from pandas<2.2.0->pycaret) (2023.4)\n",
            "Requirement already satisfied: tzdata>=2022.1 in /usr/local/lib/python3.10/dist-packages (from pandas<2.2.0->pycaret) (2024.1)\n",
            "Requirement already satisfied: tenacity>=6.2.0 in /usr/local/lib/python3.10/dist-packages (from plotly>=5.14.0->pycaret) (8.5.0)\n",
            "Collecting dash>=2.9.0 (from plotly-resampler>=0.8.3.1->pycaret)\n",
            "  Downloading dash-2.17.1-py3-none-any.whl (7.5 MB)\n",
            "\u001b[2K     \u001b[90m━━━━━━━━━━━━━━━━━━━━━━━━━━━━━━━━━━━━━━━━\u001b[0m \u001b[32m7.5/7.5 MB\u001b[0m \u001b[31m67.0 MB/s\u001b[0m eta \u001b[36m0:00:00\u001b[0m\n",
            "\u001b[?25hCollecting orjson<4.0.0,>=3.8.0 (from plotly-resampler>=0.8.3.1->pycaret)\n",
            "  Downloading orjson-3.10.6-cp310-cp310-manylinux_2_17_x86_64.manylinux2014_x86_64.whl (141 kB)\n",
            "\u001b[2K     \u001b[90m━━━━━━━━━━━━━━━━━━━━━━━━━━━━━━━━━━━━━━━━\u001b[0m \u001b[32m141.1/141.1 kB\u001b[0m \u001b[31m18.7 MB/s\u001b[0m eta \u001b[36m0:00:00\u001b[0m\n",
            "\u001b[?25hCollecting tsdownsample>=0.1.3 (from plotly-resampler>=0.8.3.1->pycaret)\n",
            "  Downloading tsdownsample-0.1.3-cp310-cp310-manylinux_2_17_x86_64.manylinux2014_x86_64.whl (2.1 MB)\n",
            "\u001b[2K     \u001b[90m━━━━━━━━━━━━━━━━━━━━━━━━━━━━━━━━━━━━━━━━\u001b[0m \u001b[32m2.1/2.1 MB\u001b[0m \u001b[31m57.8 MB/s\u001b[0m eta \u001b[36m0:00:00\u001b[0m\n",
            "\u001b[?25hRequirement already satisfied: Cython!=0.29.18,!=0.29.31,>=0.29 in /usr/local/lib/python3.10/dist-packages (from pmdarima>=2.0.4->pycaret) (3.0.10)\n",
            "Requirement already satisfied: urllib3 in /usr/local/lib/python3.10/dist-packages (from pmdarima>=2.0.4->pycaret) (2.0.7)\n",
            "Requirement already satisfied: charset-normalizer<4,>=2 in /usr/local/lib/python3.10/dist-packages (from requests>=2.27.1->pycaret) (3.3.2)\n",
            "Requirement already satisfied: idna<4,>=2.5 in /usr/local/lib/python3.10/dist-packages (from requests>=2.27.1->pycaret) (3.7)\n",
            "Requirement already satisfied: certifi>=2017.4.17 in /usr/local/lib/python3.10/dist-packages (from requests>=2.27.1->pycaret) (2024.7.4)\n",
            "Requirement already satisfied: Flask<3.1,>=1.0.4 in /usr/local/lib/python3.10/dist-packages (from dash>=2.9.0->plotly-resampler>=0.8.3.1->pycaret) (2.2.5)\n",
            "Requirement already satisfied: Werkzeug<3.1 in /usr/local/lib/python3.10/dist-packages (from dash>=2.9.0->plotly-resampler>=0.8.3.1->pycaret) (3.0.3)\n",
            "Collecting dash-html-components==2.0.0 (from dash>=2.9.0->plotly-resampler>=0.8.3.1->pycaret)\n",
            "  Downloading dash_html_components-2.0.0-py3-none-any.whl (4.1 kB)\n",
            "Collecting dash-core-components==2.0.0 (from dash>=2.9.0->plotly-resampler>=0.8.3.1->pycaret)\n",
            "  Downloading dash_core_components-2.0.0-py3-none-any.whl (3.8 kB)\n",
            "Collecting dash-table==5.0.0 (from dash>=2.9.0->plotly-resampler>=0.8.3.1->pycaret)\n",
            "  Downloading dash_table-5.0.0-py3-none-any.whl (3.9 kB)\n",
            "Requirement already satisfied: typing-extensions>=4.1.1 in /usr/local/lib/python3.10/dist-packages (from dash>=2.9.0->plotly-resampler>=0.8.3.1->pycaret) (4.12.2)\n",
            "Collecting retrying (from dash>=2.9.0->plotly-resampler>=0.8.3.1->pycaret)\n",
            "  Downloading retrying-1.3.4-py3-none-any.whl (11 kB)\n",
            "Requirement already satisfied: nest-asyncio in /usr/local/lib/python3.10/dist-packages (from dash>=2.9.0->plotly-resampler>=0.8.3.1->pycaret) (1.6.0)\n",
            "Requirement already satisfied: jupyter-client in /usr/local/lib/python3.10/dist-packages (from ipykernel>=4.5.1->ipywidgets>=7.6.5->pycaret) (6.1.12)\n",
            "Requirement already satisfied: tornado>=4.2 in /usr/local/lib/python3.10/dist-packages (from ipykernel>=4.5.1->ipywidgets>=7.6.5->pycaret) (6.3.3)\n",
            "Requirement already satisfied: parso<0.9.0,>=0.8.3 in /usr/local/lib/python3.10/dist-packages (from jedi>=0.16->ipython>=5.5.0->pycaret) (0.8.4)\n",
            "Requirement already satisfied: attrs>=22.2.0 in /usr/local/lib/python3.10/dist-packages (from jsonschema>=2.6->nbformat>=4.2.0->pycaret) (23.2.0)\n",
            "Requirement already satisfied: jsonschema-specifications>=2023.03.6 in /usr/local/lib/python3.10/dist-packages (from jsonschema>=2.6->nbformat>=4.2.0->pycaret) (2023.12.1)\n",
            "Requirement already satisfied: referencing>=0.28.4 in /usr/local/lib/python3.10/dist-packages (from jsonschema>=2.6->nbformat>=4.2.0->pycaret) (0.35.1)\n",
            "Requirement already satisfied: rpds-py>=0.7.1 in /usr/local/lib/python3.10/dist-packages (from jsonschema>=2.6->nbformat>=4.2.0->pycaret) (0.19.0)\n",
            "Requirement already satisfied: platformdirs>=2.5 in /usr/local/lib/python3.10/dist-packages (from jupyter-core!=5.0.*,>=4.12->nbformat>=4.2.0->pycaret) (4.2.2)\n",
            "Requirement already satisfied: six in /usr/local/lib/python3.10/dist-packages (from patsy>=0.5.1->category-encoders>=2.4.0->pycaret) (1.16.0)\n",
            "Requirement already satisfied: ptyprocess>=0.5 in /usr/local/lib/python3.10/dist-packages (from pexpect>4.3->ipython>=5.5.0->pycaret) (0.7.0)\n",
            "Requirement already satisfied: wcwidth in /usr/local/lib/python3.10/dist-packages (from prompt-toolkit!=3.0.0,!=3.0.1,<3.1.0,>=2.0.0->ipython>=5.5.0->pycaret) (0.2.13)\n",
            "Requirement already satisfied: notebook>=4.4.1 in /usr/local/lib/python3.10/dist-packages (from widgetsnbextension~=3.6.0->ipywidgets>=7.6.5->pycaret) (6.5.5)\n",
            "Requirement already satisfied: itsdangerous>=2.0 in /usr/local/lib/python3.10/dist-packages (from Flask<3.1,>=1.0.4->dash>=2.9.0->plotly-resampler>=0.8.3.1->pycaret) (2.2.0)\n",
            "Requirement already satisfied: click>=8.0 in /usr/local/lib/python3.10/dist-packages (from Flask<3.1,>=1.0.4->dash>=2.9.0->plotly-resampler>=0.8.3.1->pycaret) (8.1.7)\n",
            "Requirement already satisfied: pyzmq<25,>=17 in /usr/local/lib/python3.10/dist-packages (from notebook>=4.4.1->widgetsnbextension~=3.6.0->ipywidgets>=7.6.5->pycaret) (24.0.1)\n",
            "Requirement already satisfied: argon2-cffi in /usr/local/lib/python3.10/dist-packages (from notebook>=4.4.1->widgetsnbextension~=3.6.0->ipywidgets>=7.6.5->pycaret) (23.1.0)\n",
            "Requirement already satisfied: nbconvert>=5 in /usr/local/lib/python3.10/dist-packages (from notebook>=4.4.1->widgetsnbextension~=3.6.0->ipywidgets>=7.6.5->pycaret) (6.5.4)\n",
            "Requirement already satisfied: Send2Trash>=1.8.0 in /usr/local/lib/python3.10/dist-packages (from notebook>=4.4.1->widgetsnbextension~=3.6.0->ipywidgets>=7.6.5->pycaret) (1.8.3)\n",
            "Requirement already satisfied: terminado>=0.8.3 in /usr/local/lib/python3.10/dist-packages (from notebook>=4.4.1->widgetsnbextension~=3.6.0->ipywidgets>=7.6.5->pycaret) (0.18.1)\n",
            "Requirement already satisfied: prometheus-client in /usr/local/lib/python3.10/dist-packages (from notebook>=4.4.1->widgetsnbextension~=3.6.0->ipywidgets>=7.6.5->pycaret) (0.20.0)\n",
            "Requirement already satisfied: nbclassic>=0.4.7 in /usr/local/lib/python3.10/dist-packages (from notebook>=4.4.1->widgetsnbextension~=3.6.0->ipywidgets>=7.6.5->pycaret) (1.1.0)\n",
            "Requirement already satisfied: notebook-shim>=0.2.3 in /usr/local/lib/python3.10/dist-packages (from nbclassic>=0.4.7->notebook>=4.4.1->widgetsnbextension~=3.6.0->ipywidgets>=7.6.5->pycaret) (0.2.4)\n",
            "Requirement already satisfied: lxml in /usr/local/lib/python3.10/dist-packages (from nbconvert>=5->notebook>=4.4.1->widgetsnbextension~=3.6.0->ipywidgets>=7.6.5->pycaret) (4.9.4)\n",
            "Requirement already satisfied: beautifulsoup4 in /usr/local/lib/python3.10/dist-packages (from nbconvert>=5->notebook>=4.4.1->widgetsnbextension~=3.6.0->ipywidgets>=7.6.5->pycaret) (4.12.3)\n",
            "Requirement already satisfied: bleach in /usr/local/lib/python3.10/dist-packages (from nbconvert>=5->notebook>=4.4.1->widgetsnbextension~=3.6.0->ipywidgets>=7.6.5->pycaret) (6.1.0)\n",
            "Requirement already satisfied: defusedxml in /usr/local/lib/python3.10/dist-packages (from nbconvert>=5->notebook>=4.4.1->widgetsnbextension~=3.6.0->ipywidgets>=7.6.5->pycaret) (0.7.1)\n",
            "Requirement already satisfied: entrypoints>=0.2.2 in /usr/local/lib/python3.10/dist-packages (from nbconvert>=5->notebook>=4.4.1->widgetsnbextension~=3.6.0->ipywidgets>=7.6.5->pycaret) (0.4)\n",
            "Requirement already satisfied: jupyterlab-pygments in /usr/local/lib/python3.10/dist-packages (from nbconvert>=5->notebook>=4.4.1->widgetsnbextension~=3.6.0->ipywidgets>=7.6.5->pycaret) (0.3.0)\n",
            "Requirement already satisfied: mistune<2,>=0.8.1 in /usr/local/lib/python3.10/dist-packages (from nbconvert>=5->notebook>=4.4.1->widgetsnbextension~=3.6.0->ipywidgets>=7.6.5->pycaret) (0.8.4)\n",
            "Requirement already satisfied: nbclient>=0.5.0 in /usr/local/lib/python3.10/dist-packages (from nbconvert>=5->notebook>=4.4.1->widgetsnbextension~=3.6.0->ipywidgets>=7.6.5->pycaret) (0.10.0)\n",
            "Requirement already satisfied: pandocfilters>=1.4.1 in /usr/local/lib/python3.10/dist-packages (from nbconvert>=5->notebook>=4.4.1->widgetsnbextension~=3.6.0->ipywidgets>=7.6.5->pycaret) (1.5.1)\n",
            "Requirement already satisfied: tinycss2 in /usr/local/lib/python3.10/dist-packages (from nbconvert>=5->notebook>=4.4.1->widgetsnbextension~=3.6.0->ipywidgets>=7.6.5->pycaret) (1.3.0)\n",
            "Requirement already satisfied: argon2-cffi-bindings in /usr/local/lib/python3.10/dist-packages (from argon2-cffi->notebook>=4.4.1->widgetsnbextension~=3.6.0->ipywidgets>=7.6.5->pycaret) (21.2.0)\n",
            "Requirement already satisfied: jupyter-server<3,>=1.8 in /usr/local/lib/python3.10/dist-packages (from notebook-shim>=0.2.3->nbclassic>=0.4.7->notebook>=4.4.1->widgetsnbextension~=3.6.0->ipywidgets>=7.6.5->pycaret) (1.24.0)\n",
            "Requirement already satisfied: cffi>=1.0.1 in /usr/local/lib/python3.10/dist-packages (from argon2-cffi-bindings->argon2-cffi->notebook>=4.4.1->widgetsnbextension~=3.6.0->ipywidgets>=7.6.5->pycaret) (1.16.0)\n",
            "Requirement already satisfied: soupsieve>1.2 in /usr/local/lib/python3.10/dist-packages (from beautifulsoup4->nbconvert>=5->notebook>=4.4.1->widgetsnbextension~=3.6.0->ipywidgets>=7.6.5->pycaret) (2.5)\n",
            "Requirement already satisfied: webencodings in /usr/local/lib/python3.10/dist-packages (from bleach->nbconvert>=5->notebook>=4.4.1->widgetsnbextension~=3.6.0->ipywidgets>=7.6.5->pycaret) (0.5.1)\n",
            "Requirement already satisfied: pycparser in /usr/local/lib/python3.10/dist-packages (from cffi>=1.0.1->argon2-cffi-bindings->argon2-cffi->notebook>=4.4.1->widgetsnbextension~=3.6.0->ipywidgets>=7.6.5->pycaret) (2.22)\n",
            "Requirement already satisfied: anyio<4,>=3.1.0 in /usr/local/lib/python3.10/dist-packages (from jupyter-server<3,>=1.8->notebook-shim>=0.2.3->nbclassic>=0.4.7->notebook>=4.4.1->widgetsnbextension~=3.6.0->ipywidgets>=7.6.5->pycaret) (3.7.1)\n",
            "Requirement already satisfied: websocket-client in /usr/local/lib/python3.10/dist-packages (from jupyter-server<3,>=1.8->notebook-shim>=0.2.3->nbclassic>=0.4.7->notebook>=4.4.1->widgetsnbextension~=3.6.0->ipywidgets>=7.6.5->pycaret) (1.8.0)\n",
            "Requirement already satisfied: sniffio>=1.1 in /usr/local/lib/python3.10/dist-packages (from anyio<4,>=3.1.0->jupyter-server<3,>=1.8->notebook-shim>=0.2.3->nbclassic>=0.4.7->notebook>=4.4.1->widgetsnbextension~=3.6.0->ipywidgets>=7.6.5->pycaret) (1.3.1)\n",
            "Requirement already satisfied: exceptiongroup in /usr/local/lib/python3.10/dist-packages (from anyio<4,>=3.1.0->jupyter-server<3,>=1.8->notebook-shim>=0.2.3->nbclassic>=0.4.7->notebook>=4.4.1->widgetsnbextension~=3.6.0->ipywidgets>=7.6.5->pycaret) (1.2.2)\n",
            "Building wheels for collected packages: pyod\n",
            "  Building wheel for pyod (setup.py) ... \u001b[?25l\u001b[?25hdone\n",
            "  Created wheel for pyod: filename=pyod-2.0.1-py3-none-any.whl size=193267 sha256=39976427e73e6744b1622badcb826b6336173363c66599b09f8bd1882f965fd1\n",
            "  Stored in directory: /root/.cache/pip/wheels/94/75/88/b853cf33b0053b0a001dca55b74d515048b7656e736364eb57\n",
            "Successfully built pyod\n",
            "Installing collected packages: kaleido, dash-table, dash-html-components, dash-core-components, xxhash, wurlitzer, tsdownsample, scikit-base, schemdraw, retrying, orjson, joblib, jedi, deprecation, scikit-learn, sktime, scikit-plot, pyod, imbalanced-learn, dash, pmdarima, plotly-resampler, category-encoders, tbats, pycaret\n",
            "  Attempting uninstall: joblib\n",
            "    Found existing installation: joblib 1.4.2\n",
            "    Uninstalling joblib-1.4.2:\n",
            "      Successfully uninstalled joblib-1.4.2\n",
            "  Attempting uninstall: scikit-learn\n",
            "    Found existing installation: scikit-learn 1.2.2\n",
            "    Uninstalling scikit-learn-1.2.2:\n",
            "      Successfully uninstalled scikit-learn-1.2.2\n",
            "  Attempting uninstall: imbalanced-learn\n",
            "    Found existing installation: imbalanced-learn 0.10.1\n",
            "    Uninstalling imbalanced-learn-0.10.1:\n",
            "      Successfully uninstalled imbalanced-learn-0.10.1\n",
            "Successfully installed category-encoders-2.6.3 dash-2.17.1 dash-core-components-2.0.0 dash-html-components-2.0.0 dash-table-5.0.0 deprecation-2.1.0 imbalanced-learn-0.12.3 jedi-0.19.1 joblib-1.3.2 kaleido-0.2.1 orjson-3.10.6 plotly-resampler-0.10.0 pmdarima-2.0.4 pycaret-3.3.2 pyod-2.0.1 retrying-1.3.4 schemdraw-0.15 scikit-base-0.7.8 scikit-learn-1.4.2 scikit-plot-0.3.7 sktime-0.26.0 tbats-1.1.3 tsdownsample-0.1.3 wurlitzer-3.1.1 xxhash-3.4.1\n"
          ]
        }
      ]
    },
    {
      "cell_type": "code",
      "metadata": {
        "id": "7LfnpwSS9nue"
      },
      "source": [
        "#εισαγωγή βιβλιοθηκών - πακέτων\n",
        "import pycaret\n",
        "import pandas as pd\n",
        "import numpy as np\n",
        "import matplotlib.pyplot as plt\n",
        "from pycaret.classification import *"
      ],
      "execution_count": null,
      "outputs": []
    },
    {
      "cell_type": "code",
      "metadata": {
        "colab": {
          "base_uri": "https://localhost:8080/"
        },
        "id": "ZunbzPVa9a6g",
        "outputId": "20a121e6-71a7-4fbf-f61b-fa10b6c8b61d"
      },
      "source": [
        "#εισαγωγή του συνόλου δεδομένων\n",
        "url = 'https://raw.githubusercontent.com/kdemertzis/EKPA/main/Data/dga_domain.csv'\n",
        "df = pd.read_csv(url)\n",
        "#έλεγχος σχήματος συνόλου δεδομένων\n",
        "print(df.shape)"
      ],
      "execution_count": null,
      "outputs": [
        {
          "output_type": "stream",
          "name": "stdout",
          "text": [
            "(117588, 6)\n"
          ]
        }
      ]
    },
    {
      "cell_type": "code",
      "source": [
        "#ανακάτεμα των δεδομένων\n",
        "df = df.sample(frac = 1)\n",
        "print(df.head())"
      ],
      "metadata": {
        "id": "DCynJDtpYx8z",
        "outputId": "2ab57135-cb69-40db-a25a-c481c0715f8f",
        "colab": {
          "base_uri": "https://localhost:8080/"
        }
      },
      "execution_count": null,
      "outputs": [
        {
          "output_type": "stream",
          "name": "stdout",
          "text": [
            "       length   entropy   alexa_grams   word_grams       diff  class\n",
            "42979      20  3.484184     96.026557   112.491439 -16.464882  legit\n",
            "2383       11  3.277613     38.917973    44.771839  -5.853866  legit\n",
            "1090       13  3.546594     34.586606    41.919603  -7.332997  legit\n",
            "1283        5  1.921928      6.427233     9.638842  -3.211609  legit\n",
            "50405       8  2.750000     20.479200    16.137945   4.341255  legit\n"
          ]
        }
      ]
    },
    {
      "cell_type": "code",
      "metadata": {
        "id": "J6y3Zhq2-EZ8"
      },
      "source": [
        "#εγκατάσταση του συνόλου δεδομένων\n",
        "grid = setup(data=df, target=df.columns[-1], html=False, verbose=False)"
      ],
      "execution_count": null,
      "outputs": []
    },
    {
      "cell_type": "code",
      "metadata": {
        "colab": {
          "base_uri": "https://localhost:8080/"
        },
        "id": "ZGJ7kigzA1Rf",
        "outputId": "7368e61e-755d-45e9-843a-0ecf27cdc889"
      },
      "source": [
        "#σύγκριση των διαθέσιμων μοντέλων ΜΜ\n",
        "best = compare_models(cross_validation=False, n_select = 1)\n",
        "%reload_ext tensorboard"
      ],
      "execution_count": null,
      "outputs": [
        {
          "output_type": "stream",
          "name": "stderr",
          "text": [
            "                                                           "
          ]
        },
        {
          "output_type": "stream",
          "name": "stdout",
          "text": [
            "                                    Model  Accuracy     AUC  Recall   Prec.  \\\n",
            "xgboost         Extreme Gradient Boosting    0.8866  0.9076  0.8866  0.8864   \n",
            "gbc          Gradient Boosting Classifier    0.8864  0.9072  0.8864  0.8872   \n",
            "lightgbm  Light Gradient Boosting Machine    0.8860  0.9090  0.8860  0.8868   \n",
            "rf               Random Forest Classifier    0.8804  0.8950  0.8804  0.8766   \n",
            "lr                    Logistic Regression    0.8735  0.8752  0.8735  0.8714   \n",
            "knn                K Neighbors Classifier    0.8731  0.8669  0.8731  0.8683   \n",
            "et                 Extra Trees Classifier    0.8708  0.8866  0.8708  0.8653   \n",
            "svm                   SVM - Linear Kernel    0.8700  0.0000  0.8700  0.8688   \n",
            "qda       Quadratic Discriminant Analysis    0.8676  0.8803  0.8676  0.8768   \n",
            "lda          Linear Discriminant Analysis    0.8474  0.8579  0.8474  0.8508   \n",
            "ridge                    Ridge Classifier    0.8325  0.0000  0.8325  0.8539   \n",
            "dt               Decision Tree Classifier    0.8288  0.7880  0.8288  0.8295   \n",
            "nb                            Naive Bayes    0.7671  0.7807  0.7671  0.7409   \n",
            "ada                  Ada Boost Classifier    0.7666  0.5756  0.7666  0.6396   \n",
            "dummy                    Dummy Classifier    0.7342  0.0000  0.7342  0.5391   \n",
            "\n",
            "              F1   Kappa     MCC  TT (Sec)  \n",
            "xgboost   0.8778  0.6927  0.7093      2.09  \n",
            "gbc       0.8768  0.6905  0.7093     59.60  \n",
            "lightgbm  0.8767  0.6895  0.7080      4.15  \n",
            "rf        0.8732  0.6822  0.6924     23.35  \n",
            "lr        0.8644  0.6580  0.6730      9.43  \n",
            "knn       0.8659  0.6639  0.6731      0.13  \n",
            "et        0.8651  0.6629  0.6687      7.72  \n",
            "svm       0.8600  0.6447  0.6627      4.79  \n",
            "qda       0.8528  0.6332  0.6616      0.06  \n",
            "lda       0.8343  0.5692  0.5960      0.07  \n",
            "ridge     0.7991  0.4791  0.5450      0.07  \n",
            "dt        0.8291  0.5818  0.5818      1.01  \n",
            "nb        0.7456  0.3711  0.3816      0.06  \n",
            "ada       0.6733  0.2198  0.3319      4.11  \n",
            "dummy     0.6217  0.0000  0.0000      0.04  \n"
          ]
        },
        {
          "output_type": "stream",
          "name": "stderr",
          "text": [
            "\r"
          ]
        }
      ]
    },
    {
      "cell_type": "code",
      "metadata": {
        "colab": {
          "base_uri": "https://localhost:8080/"
        },
        "id": "TorFLtNx-kCm",
        "outputId": "9ae394f8-05f6-41b9-8a58-3cd822b81e76"
      },
      "source": [
        "#αναφορά των υπερπαραμέτρων του μοντέλου με την υψηλότερη απόδοση\n",
        "print(best)"
      ],
      "execution_count": null,
      "outputs": [
        {
          "output_type": "stream",
          "name": "stdout",
          "text": [
            "XGBClassifier(base_score=None, booster='gbtree', callbacks=None,\n",
            "              colsample_bylevel=None, colsample_bynode=None,\n",
            "              colsample_bytree=None, device='cpu', early_stopping_rounds=None,\n",
            "              enable_categorical=False, eval_metric=None, feature_types=None,\n",
            "              gamma=None, grow_policy=None, importance_type=None,\n",
            "              interaction_constraints=None, learning_rate=None, max_bin=None,\n",
            "              max_cat_threshold=None, max_cat_to_onehot=None,\n",
            "              max_delta_step=None, max_depth=None, max_leaves=None,\n",
            "              min_child_weight=None, missing=nan, monotone_constraints=None,\n",
            "              multi_strategy=None, n_estimators=None, n_jobs=-1,\n",
            "              num_parallel_tree=None, objective='multi:softprob', ...)\n"
          ]
        }
      ]
    },
    {
      "cell_type": "code",
      "metadata": {
        "id": "XJTnGY38yxrE",
        "outputId": "76939b0c-65fd-4999-af59-544480983970",
        "colab": {
          "base_uri": "https://localhost:8080/",
          "height": 597,
          "referenced_widgets": [
            "3e7fcd5465cf44b09bc6c84e9dde8a46",
            "275ec76ac8c7403c8ea967555bb0ca7b",
            "543c4f05789a41b3851513ee207b187a",
            "95a6847f312d4d5e8778d1812bee2632",
            "2124125ab6a44a3e97a754ba8f1bd555",
            "4979434357c94aa388a5ceb2e2fe3ff0",
            "36005cf26c524f5e88386fac8ad8a801"
          ]
        }
      },
      "source": [
        "#μέτρα αξιολόγησης του μοντέλου με την υψηλότερη απόδοση\n",
        "evaluate_model(best)"
      ],
      "execution_count": null,
      "outputs": [
        {
          "output_type": "display_data",
          "data": {
            "text/plain": [
              "interactive(children=(ToggleButtons(description='Plot Type:', icons=('',), options=(('Pipeline Plot', 'pipelin…"
            ],
            "application/vnd.jupyter.widget-view+json": {
              "version_major": 2,
              "version_minor": 0,
              "model_id": "3e7fcd5465cf44b09bc6c84e9dde8a46"
            }
          },
          "metadata": {
            "application/vnd.jupyter.widget-view+json": {
              "colab": {
                "custom_widget_manager": {
                  "url": "https://ssl.gstatic.com/colaboratory-static/widgets/colab-cdn-widget-manager/2b70e893a8ba7c0f/manager.min.js"
                }
              }
            }
          }
        }
      ]
    }
  ]
}